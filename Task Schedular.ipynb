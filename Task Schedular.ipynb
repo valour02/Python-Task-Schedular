{
 "cells": [
  {
   "cell_type": "code",
   "execution_count": 1,
   "id": "ee6ace10-d6cd-40c9-9d85-88e3fff431db",
   "metadata": {},
   "outputs": [
    {
     "name": "stdout",
     "output_type": "stream",
     "text": [
      "Defaulting to user installation because normal site-packages is not writeable\n",
      "Collecting schedule\n",
      "  Downloading schedule-1.2.2-py3-none-any.whl.metadata (3.8 kB)\n",
      "Downloading schedule-1.2.2-py3-none-any.whl (12 kB)\n",
      "Installing collected packages: schedule\n",
      "Successfully installed schedule-1.2.2\n",
      "Note: you may need to restart the kernel to use updated packages.\n"
     ]
    }
   ],
   "source": [
    "pip install schedule"
   ]
  },
  {
   "cell_type": "code",
   "execution_count": 6,
   "id": "71d4a713-2054-4bfb-843e-aa561dc68bbe",
   "metadata": {},
   "outputs": [
    {
     "name": "stdout",
     "output_type": "stream",
     "text": [
      "Scheduler is running...\n"
     ]
    }
   ],
   "source": [
    "import schedule\n",
    "import time\n",
    "import subprocess\n",
    "\n",
    "def run_notebook(notebook_path):\n",
    "\n",
    "    try:\n",
    "        # Convert the notebook to a Python script\n",
    "        python_script_path = notebook_path.replace(\".ipynb\", \".py\")\n",
    "        subprocess.run([\"jupyter\", \"nbconvert\", \"--to\", \"script\", notebook_path], check=True)\n",
    "        \n",
    "        # Execute the generated Python script\n",
    "        subprocess.run([\"python\", python_script_path], check=True)\n",
    "        print(f\"Executed notebook: {notebook_path}\")\n",
    "    except subprocess.CalledProcessError as e:\n",
    "        print(f\"Error executing notebook: {e}\")\n",
    "\n",
    "# Path to your Jupyter Notebook file\n",
    "notebook_path = r'Desktop/DATA ANALYTICS/General Codes/File Backup.ipynb'\n",
    "\n",
    "# Schedule the notebook execution\n",
    "schedule.every().day.at(\"11:19\").do(run_notebook, notebook_path)\n",
    "\n",
    "print(\"Scheduler is running...\")\n",
    "\n",
    "while True:\n",
    "    schedule.run_pending()\n",
    "    time.sleep(1)\n"
   ]
  },
  {
   "cell_type": "code",
   "execution_count": null,
   "id": "55d8da36-0567-40a3-9655-6cf4621c4726",
   "metadata": {
    "scrolled": true
   },
   "outputs": [
    {
     "name": "stdout",
     "output_type": "stream",
     "text": [
      "Scheduler is running...\n",
      "Error executing notebook: Command '['jupyter', 'nbconvert', 'to', 'notebook', 'execute', 'Desktop/DATA ANALYTICS/General Codes/File Backup.ipynb', 'output', 'Desktop/DATA ANALYTICS/General Codes/File Backup.ipynb', 'debug']' returned non-zero exit status 4294967295.\n"
     ]
    }
   ],
   "source": [
    "import schedule\n",
    "import time\n",
    "import subprocess\n",
    "\n",
    "def run_notebook(notebook_path):\n",
    "    try:\n",
    "        # Use nbconvert to execute the notebook\n",
    "        subprocess.run([\"jupyter\", \"nbconvert\", \"to\", \"notebook\", \"execute\", notebook_path, \n",
    "                \"output\", notebook_path, \"debug\"], check=True)\n",
    "\n",
    "        print(f\"Executed notebook: {notebook_path}\")\n",
    "    except subprocess.CalledProcessError as e:\n",
    "        print(f\"Error executing notebook: {e}\")\n",
    "\n",
    "# Path to your Jupyter Notebook file\n",
    "notebook_path = r'Desktop/DATA ANALYTICS/General Codes/File Backup.ipynb'\n",
    "\n",
    "# Schedule the notebook execution\n",
    "schedule.every().day.at(\"11:32\").do(run_notebook, notebook_path)\n",
    "\n",
    "print(\"Scheduler is running...\")\n",
    "\n",
    "while True:\n",
    "    schedule.run_pending()\n",
    "    time.sleep(1)\n"
   ]
  },
  {
   "cell_type": "code",
   "execution_count": null,
   "id": "daccbfd0-67e9-4211-a83f-3aa2e0dd6134",
   "metadata": {},
   "outputs": [],
   "source": []
  }
 ],
 "metadata": {
  "kernelspec": {
   "display_name": "Python 3 (ipykernel)",
   "language": "python",
   "name": "python3"
  },
  "language_info": {
   "codemirror_mode": {
    "name": "ipython",
    "version": 3
   },
   "file_extension": ".py",
   "mimetype": "text/x-python",
   "name": "python",
   "nbconvert_exporter": "python",
   "pygments_lexer": "ipython3",
   "version": "3.11.7"
  }
 },
 "nbformat": 4,
 "nbformat_minor": 5
}
